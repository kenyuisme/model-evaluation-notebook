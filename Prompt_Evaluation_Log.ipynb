{
  "nbformat": 4,
  "nbformat_minor": 0,
  "metadata": {
    "colab": {
      "provenance": [],
      "authorship_tag": "ABX9TyOhKXsICuJnULW+hSCHseep",
      "include_colab_link": true
    },
    "kernelspec": {
      "name": "python3",
      "display_name": "Python 3"
    },
    "language_info": {
      "name": "python"
    }
  },
  "cells": [
    {
      "cell_type": "markdown",
      "metadata": {
        "id": "view-in-github",
        "colab_type": "text"
      },
      "source": [
        "<a href=\"https://colab.research.google.com/github/kenyuisme/model-evaluation-notebook/blob/main/Prompt_Evaluation_Log.ipynb\" target=\"_parent\"><img src=\"https://colab.research.google.com/assets/colab-badge.svg\" alt=\"Open In Colab\"/></a>"
      ]
    },
    {
      "cell_type": "code",
      "execution_count": 22,
      "metadata": {
        "id": "hZO3wHFZ3JtZ"
      },
      "outputs": [],
      "source": [
        "import os\n",
        "import pandas as pd\n",
        "\n",
        "def initialize_registry_question(registry, question):\n",
        "    \"\"\"\n",
        "    Ensures the directory for the registry and CSV for the question exist.\n",
        "    \"\"\"\n",
        "    # Paths\n",
        "    data_dir = \"data\"\n",
        "    registry_path = os.path.join(data_dir, registry)\n",
        "    question_path = os.path.join(registry_path, question) + \".csv\"\n",
        "\n",
        "    # Create directories if missing\n",
        "    os.makedirs(registry_path, exist_ok=True)\n",
        "\n",
        "    # Create CSV if missing\n",
        "    if not os.path.isfile(question_path):\n",
        "        df = pd.DataFrame(columns=[\n",
        "            \"Prompt Name\", \"Precision\", \"Recall\", \"F1\", \"Cohen's Kappa\", \"Notes\"\n",
        "        ])\n",
        "        df.to_csv(question_path, index=False)\n",
        "        print(f\"Initialized new CSV at: {question_path}\")\n",
        "    else:\n",
        "        print(f\"CSV already exists: {question_path}\")\n",
        "\n",
        "    return question_path\n"
      ]
    },
    {
      "cell_type": "code",
      "source": [
        "def add_prompt_result(registry, question, prompt_name, metrics, notes=\"\"):\n",
        "    \"\"\"\n",
        "    Appends a single prompt result row directly to the CSV file.\n",
        "    \"\"\"\n",
        "    question_path = initialize_registry_question(registry, question) + \".csv\"\n",
        "\n",
        "    # Create DataFrame for the new row\n",
        "    new_row_df = pd.DataFrame([{\n",
        "        \"Prompt Name\": prompt_name,\n",
        "        \"Precision\": metrics.get(\"Precision\", None),\n",
        "        \"Recall\": metrics.get(\"Recall\", None),\n",
        "        \"F1\": metrics.get(\"F1\", None),\n",
        "        \"Cohen's Kappa\": metrics.get(\"Cohen's Kappa\", None),\n",
        "        \"Notes\": notes\n",
        "    }])\n",
        "\n",
        "    # Append row without loading full CSV\n",
        "    new_row_df.to_csv(question_path, mode='a', index=False, header=False)\n",
        "    print(f\"Appended prompt result to: {question_path}\")\n"
      ],
      "metadata": {
        "id": "nVZwRMS15zEl"
      },
      "execution_count": 20,
      "outputs": []
    },
    {
      "cell_type": "code",
      "source": [
        "import matplotlib.pyplot as plt\n",
        "import seaborn as sns\n",
        "\n",
        "def view_prompt_results(registry, question, color_thresholds=(0.6, 0.8)):\n",
        "    \"\"\"\n",
        "    Displays a styled DataFrame of all prompt results with traffic light coloring.\n",
        "    \"\"\"\n",
        "    question_path = initialize_registry_question(registry, question)\n",
        "    df = pd.read_csv(question_path)\n",
        "\n",
        "    def traffic_light(val):\n",
        "        if pd.isnull(val):\n",
        "            return ''\n",
        "        elif val < color_thresholds[0]:\n",
        "            return 'background-color: #FFCDD2'  # Red\n",
        "        elif val < color_thresholds[1]:\n",
        "            return 'background-color: #FFF9C4'  # Yellow\n",
        "        else:\n",
        "            return 'background-color: #C8E6C9'  # Green\n",
        "\n",
        "    styled_df = df.style.map(traffic_light, subset=['Precision', 'Recall', 'F1', 'Cohen\\'s Kappa']) \\\n",
        "                        .format(\"{:.2f}\", subset=['Precision', 'Recall', 'F1', 'Cohen\\'s Kappa'])\n",
        "    display(styled_df)\n"
      ],
      "metadata": {
        "id": "nyb5JTQL63jQ"
      },
      "execution_count": 28,
      "outputs": []
    },
    {
      "cell_type": "code",
      "source": [
        "import pandas as pd\n",
        "from datetime import datetime\n",
        "\n",
        "folder_path = 'registry_A'\n",
        "\n",
        "if not os.path.exists(folder_path):\n",
        "    os.makedirs(folder_path)\n",
        "\n",
        "\n",
        "# Define mock data as list of dicts\n",
        "mock_data = [\n",
        "    {\n",
        "        \"Prompt_Name\": \"Prompt_v1\",\n",
        "        \"Precision\": 0.85,\n",
        "        \"Recall\": 0.90,\n",
        "        \"F1\": 0.87,\n",
        "        \"Accuracy\": 0.92,\n",
        "        \"Cohen's Kappa\": 0.83,\n",
        "        \"Test_Date\": \"2025-07-16\",\n",
        "        \"Notes\": \"Initial baseline prompt\"\n",
        "    },\n",
        "    {\n",
        "        \"Prompt_Name\": \"Prompt_v2\",\n",
        "        \"Precision\": 0.88,\n",
        "        \"Recall\": 0.85,\n",
        "        \"F1\": 0.86,\n",
        "        \"Accuracy\": 0.91,\n",
        "        \"Cohen's Kappa\": 0.81,\n",
        "        \"Test_Date\": \"2025-07-17\",\n",
        "        \"Notes\": \"Added more context in prompt\"\n",
        "    },\n",
        "    {\n",
        "        \"Prompt_Name\": \"Prompt_v3\",\n",
        "        \"Precision\": 0.82,\n",
        "        \"Recall\": 0.88,\n",
        "        \"F1\": 0.85,\n",
        "        \"Accuracy\": 0.89,\n",
        "        \"Cohen's Kappa\": 0.79,\n",
        "        \"Test_Date\": \"2025-07-18\",\n",
        "        \"Notes\": \"Tuned temperature for LLM\"\n",
        "    }\n",
        "]\n",
        "\n",
        "# Convert to DataFrame\n",
        "mock_df = pd.DataFrame(mock_data)\n",
        "\n",
        "# Save to CSV\n",
        "mock_df.to_csv('data/registry_A/comorbidity_diabetes.csv', index=False)\n"
      ],
      "metadata": {
        "id": "dXa8IPTo65c_"
      },
      "execution_count": 19,
      "outputs": []
    },
    {
      "cell_type": "code",
      "source": [
        "registry = 'registry_A'\n",
        "question = 'comorbidity_diabetes'"
      ],
      "metadata": {
        "id": "pnXY6JDb9zci"
      },
      "execution_count": 9,
      "outputs": []
    },
    {
      "cell_type": "code",
      "source": [
        "view_prompt_results(registry, question)"
      ],
      "metadata": {
        "colab": {
          "base_uri": "https://localhost:8080/",
          "height": 161
        },
        "id": "HGSPTy6t91Tc",
        "outputId": "07a0ffaf-d4f6-42c1-ec3b-0e40ac85f78a"
      },
      "execution_count": 29,
      "outputs": [
        {
          "output_type": "stream",
          "name": "stdout",
          "text": [
            "CSV already exists: data/registry_A/comorbidity_diabetes.csv\n"
          ]
        },
        {
          "output_type": "display_data",
          "data": {
            "text/plain": [
              "<pandas.io.formats.style.Styler at 0x7fc289710a90>"
            ],
            "text/html": [
              "<style type=\"text/css\">\n",
              "#T_0143a_row0_col1, #T_0143a_row0_col2, #T_0143a_row0_col3, #T_0143a_row0_col5, #T_0143a_row1_col1, #T_0143a_row1_col2, #T_0143a_row1_col3, #T_0143a_row1_col5, #T_0143a_row2_col1, #T_0143a_row2_col2, #T_0143a_row2_col3 {\n",
              "  background-color: #C8E6C9;\n",
              "}\n",
              "#T_0143a_row2_col5 {\n",
              "  background-color: #FFF9C4;\n",
              "}\n",
              "</style>\n",
              "<table id=\"T_0143a\" class=\"dataframe\">\n",
              "  <thead>\n",
              "    <tr>\n",
              "      <th class=\"blank level0\" >&nbsp;</th>\n",
              "      <th id=\"T_0143a_level0_col0\" class=\"col_heading level0 col0\" >Prompt_Name</th>\n",
              "      <th id=\"T_0143a_level0_col1\" class=\"col_heading level0 col1\" >Precision</th>\n",
              "      <th id=\"T_0143a_level0_col2\" class=\"col_heading level0 col2\" >Recall</th>\n",
              "      <th id=\"T_0143a_level0_col3\" class=\"col_heading level0 col3\" >F1</th>\n",
              "      <th id=\"T_0143a_level0_col4\" class=\"col_heading level0 col4\" >Accuracy</th>\n",
              "      <th id=\"T_0143a_level0_col5\" class=\"col_heading level0 col5\" >Cohen's Kappa</th>\n",
              "      <th id=\"T_0143a_level0_col6\" class=\"col_heading level0 col6\" >Test_Date</th>\n",
              "      <th id=\"T_0143a_level0_col7\" class=\"col_heading level0 col7\" >Notes</th>\n",
              "    </tr>\n",
              "  </thead>\n",
              "  <tbody>\n",
              "    <tr>\n",
              "      <th id=\"T_0143a_level0_row0\" class=\"row_heading level0 row0\" >0</th>\n",
              "      <td id=\"T_0143a_row0_col0\" class=\"data row0 col0\" >Prompt_v1</td>\n",
              "      <td id=\"T_0143a_row0_col1\" class=\"data row0 col1\" >0.85</td>\n",
              "      <td id=\"T_0143a_row0_col2\" class=\"data row0 col2\" >0.90</td>\n",
              "      <td id=\"T_0143a_row0_col3\" class=\"data row0 col3\" >0.87</td>\n",
              "      <td id=\"T_0143a_row0_col4\" class=\"data row0 col4\" >0.920000</td>\n",
              "      <td id=\"T_0143a_row0_col5\" class=\"data row0 col5\" >0.83</td>\n",
              "      <td id=\"T_0143a_row0_col6\" class=\"data row0 col6\" >2025-07-16</td>\n",
              "      <td id=\"T_0143a_row0_col7\" class=\"data row0 col7\" >Initial baseline prompt</td>\n",
              "    </tr>\n",
              "    <tr>\n",
              "      <th id=\"T_0143a_level0_row1\" class=\"row_heading level0 row1\" >1</th>\n",
              "      <td id=\"T_0143a_row1_col0\" class=\"data row1 col0\" >Prompt_v2</td>\n",
              "      <td id=\"T_0143a_row1_col1\" class=\"data row1 col1\" >0.88</td>\n",
              "      <td id=\"T_0143a_row1_col2\" class=\"data row1 col2\" >0.85</td>\n",
              "      <td id=\"T_0143a_row1_col3\" class=\"data row1 col3\" >0.86</td>\n",
              "      <td id=\"T_0143a_row1_col4\" class=\"data row1 col4\" >0.910000</td>\n",
              "      <td id=\"T_0143a_row1_col5\" class=\"data row1 col5\" >0.81</td>\n",
              "      <td id=\"T_0143a_row1_col6\" class=\"data row1 col6\" >2025-07-17</td>\n",
              "      <td id=\"T_0143a_row1_col7\" class=\"data row1 col7\" >Added more context in prompt</td>\n",
              "    </tr>\n",
              "    <tr>\n",
              "      <th id=\"T_0143a_level0_row2\" class=\"row_heading level0 row2\" >2</th>\n",
              "      <td id=\"T_0143a_row2_col0\" class=\"data row2 col0\" >Prompt_v3</td>\n",
              "      <td id=\"T_0143a_row2_col1\" class=\"data row2 col1\" >0.82</td>\n",
              "      <td id=\"T_0143a_row2_col2\" class=\"data row2 col2\" >0.88</td>\n",
              "      <td id=\"T_0143a_row2_col3\" class=\"data row2 col3\" >0.85</td>\n",
              "      <td id=\"T_0143a_row2_col4\" class=\"data row2 col4\" >0.890000</td>\n",
              "      <td id=\"T_0143a_row2_col5\" class=\"data row2 col5\" >0.79</td>\n",
              "      <td id=\"T_0143a_row2_col6\" class=\"data row2 col6\" >2025-07-18</td>\n",
              "      <td id=\"T_0143a_row2_col7\" class=\"data row2 col7\" >Tuned temperature for LLM</td>\n",
              "    </tr>\n",
              "  </tbody>\n",
              "</table>\n"
            ]
          },
          "metadata": {}
        }
      ]
    }
  ]
}